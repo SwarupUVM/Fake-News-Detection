{
 "cells": [
  {
   "cell_type": "code",
   "execution_count": 1,
   "metadata": {
    "colab": {
     "base_uri": "https://localhost:8080/"
    },
    "id": "m9_0JbD78SqP",
    "outputId": "e347fc21-9651-4f5d-d7e6-67d94134a61a"
   },
   "outputs": [
    {
     "name": "stderr",
     "output_type": "stream",
     "text": [
      "c:\\ProgramData\\anaconda3\\envs\\pytorch\\lib\\site-packages\\tqdm\\auto.py:21: TqdmWarning: IProgress not found. Please update jupyter and ipywidgets. See https://ipywidgets.readthedocs.io/en/stable/user_install.html\n",
      "  from .autonotebook import tqdm as notebook_tqdm\n",
      "100%|██████████| 14277/14277 [00:00<00:00, 89228.01it/s]\n",
      "100%|██████████| 3755/3755 [00:00<00:00, 87939.98it/s]\n"
     ]
    }
   ],
   "source": [
    "# Import necessary libraries\n",
    "import pandas as pd\n",
    "import numpy as np\n",
    "from tqdm import tqdm\n",
    "import re\n",
    "import string\n",
    "import matplotlib.pyplot as plt\n",
    "import cv2\n",
    "import os\n",
    "from sklearn.metrics import accuracy_score\n",
    "\n",
    "import torch\n",
    "from transformers import BertTokenizer\n",
    "import os\n",
    "# Set random seed for reproducibility\n",
    "np.random.seed(42)\n",
    "torch.manual_seed(42)\n",
    "\n",
    "# Parameters for BERT model and tokenization\n",
    "bert_path = \"bert-base-uncased\"  # Use the Hugging Face model\n",
    "\n",
    "# Load the BERT tokenizer\n",
    "tokenizer = BertTokenizer.from_pretrained(bert_path)\n",
    "\n",
    "def get_df(file):\n",
    "    return pd.read_csv(file,sep = '\\t')\n",
    "\n",
    "train_df = get_df('train_posts.txt')\n",
    "test_df = get_df('test_posts.txt')\n",
    "\n",
    "def return_first_image(row):\n",
    "    return row['imageId(s)'].split(',')[0].strip()\n",
    "\n",
    "tqdm.pandas()\n",
    "train_df['first_image_id'] = train_df.progress_apply (lambda row: return_first_image(row),axis=1)\n",
    "test_df['first_image_id'] = test_df.progress_apply (lambda row: return_first_image(row),axis=1)\n",
    "\n",
    "from os import listdir\n",
    "\n",
    "images_train_dataset = [i for i in train_df['first_image_id'].tolist()]\n",
    "images_train_folder = [i.split('.')[0].strip() for i in listdir('images_train/')]\n",
    "images_train_not_available = set(images_train_dataset)-set(images_train_folder)\n",
    "images_train_not_available\n",
    "\n",
    "images_test_dataset = [i.split(',')[0].strip() for i in test_df['first_image_id'].tolist()]\n",
    "images_test_folder = [i.split('.')[0].strip() for i in listdir('images_test/')]\n",
    "images_test_not_available = set(images_test_dataset)-set(images_test_folder)\n",
    "images_test_not_available\n",
    "\n",
    "train_df = train_df[~train_df['first_image_id'].isin(images_train_not_available)]\n",
    "test_df = test_df[~test_df['first_image_id'].isin(images_test_not_available)]\n",
    "\n",
    "train_text = train_df['tweetText'].tolist()\n",
    "test_text = test_df['tweetText'].tolist()\n",
    "\n",
    "train_images = [i for i in train_df['first_image_id'].tolist()]\n",
    "test_images = [i.split(',')[0].strip() for i in test_df['imageId(s)'].tolist()]\n",
    "\n",
    "trainY = train_df['label'].tolist()\n",
    "trainY = [1 if i=='real' else 0 for i in trainY]\n",
    "\n",
    "testY = test_df['label'].tolist()\n",
    "testY = [1 if i=='real' else 0 for i in testY]"
   ]
  },
  {
   "cell_type": "markdown",
   "metadata": {
    "id": "TuX6qzVlCaT_"
   },
   "source": [
    "# Text part"
   ]
  },
  {
   "cell_type": "markdown",
   "metadata": {},
   "source": [
    "#mBERT-base"
   ]
  },
  {
   "cell_type": "code",
   "execution_count": 2,
   "metadata": {},
   "outputs": [
    {
     "name": "stderr",
     "output_type": "stream",
     "text": [
      "Converting examples to features: 100%|██████████| 14258/14258 [00:12<00:00, 1099.23it/s]\n",
      "Converting examples to features: 100%|██████████| 1923/1923 [00:02<00:00, 938.64it/s] \n"
     ]
    }
   ],
   "source": [
    "import numpy as np\n",
    "from transformers import BertTokenizer\n",
    "from tqdm import tqdm  # Import tqdm for progress tracking\n",
    "import torch\n",
    "\n",
    "class PaddingInputExample:\n",
    "    \"\"\"Fake example so the num input examples is a multiple of the batch size.\"\"\"\n",
    "    pass  # No need for methods or properties; just a marker class\n",
    "\n",
    "class InputExample:\n",
    "    \"\"\"A single training/test example for simple sequence classification.\"\"\"\n",
    "\n",
    "    def __init__(self, guid, text_a, text_b=None, label=None):\n",
    "        \"\"\"Constructs an InputExample.\n",
    "\n",
    "        Args:\n",
    "            guid: Unique id for the example.\n",
    "            text_a: string. The untokenized text of the first sequence.\n",
    "            text_b: (Optional) string. The untokenized text of the second sequence.\n",
    "            label: (Optional) string. The label of the example.\n",
    "        \"\"\"\n",
    "        self.guid = guid\n",
    "        self.text_a = text_a\n",
    "        self.text_b = text_b\n",
    "        self.label = label\n",
    "\n",
    "def create_tokenizer():\n",
    "    \"\"\"Instantiate the mBERT tokenizer.\"\"\"\n",
    "    return BertTokenizer.from_pretrained('bert-base-multilingual-cased')\n",
    "\n",
    "def convert_single_example(tokenizer, example, max_seq_length=256):\n",
    "    \"\"\"Converts a single `InputExample` into a single `InputFeatures`.\"\"\"\n",
    "    if isinstance(example, PaddingInputExample):\n",
    "        input_ids = [0] * max_seq_length\n",
    "        input_mask = [0] * max_seq_length\n",
    "        segment_ids = [0] * max_seq_length\n",
    "        label = 0\n",
    "        return input_ids, input_mask, segment_ids, label\n",
    "\n",
    "    tokens_a = tokenizer.tokenize(example.text_a)\n",
    "    if len(tokens_a) > max_seq_length - 2:\n",
    "        tokens_a = tokens_a[0 : (max_seq_length - 2)]\n",
    "\n",
    "    tokens = []\n",
    "    segment_ids = []\n",
    "    tokens.append(\"[CLS]\")\n",
    "    segment_ids.append(0)\n",
    "\n",
    "    for token in tokens_a:\n",
    "        tokens.append(token)\n",
    "        segment_ids.append(0)\n",
    "\n",
    "    tokens.append(\"[SEP]\")\n",
    "    segment_ids.append(0)\n",
    "\n",
    "    input_ids = tokenizer.convert_tokens_to_ids(tokens)\n",
    "\n",
    "    # The mask has 1 for real tokens and 0 for padding tokens.\n",
    "    input_mask = [1] * len(input_ids)\n",
    "\n",
    "    # Zero-pad up to the sequence length.\n",
    "    while len(input_ids) < max_seq_length:\n",
    "        input_ids.append(0)\n",
    "        input_mask.append(0)\n",
    "        segment_ids.append(0)\n",
    "\n",
    "    assert len(input_ids) == max_seq_length\n",
    "    assert len(input_mask) == max_seq_length\n",
    "    assert len(segment_ids) == max_seq_length\n",
    "\n",
    "    return input_ids, input_mask, segment_ids, example.label\n",
    "\n",
    "def convert_examples_to_features(tokenizer, examples, max_seq_length=256):\n",
    "    \"\"\"Convert a set of `InputExample`s to a list of `InputFeatures`.\"\"\"\n",
    "    input_ids, input_masks, segment_ids, labels = [], [], [], []\n",
    "\n",
    "    for example in tqdm(examples, desc=\"Converting examples to features\"):\n",
    "        input_id, input_mask, segment_id, label = convert_single_example(\n",
    "            tokenizer, example, max_seq_length\n",
    "        )\n",
    "        input_ids.append(input_id)\n",
    "        input_masks.append(input_mask)\n",
    "        segment_ids.append(segment_id)\n",
    "        labels.append(label)\n",
    "\n",
    "    return (\n",
    "        torch.tensor(input_ids),          # Use torch tensors\n",
    "        torch.tensor(input_masks),        # Use torch tensors\n",
    "        torch.tensor(segment_ids),        # Use torch tensors\n",
    "        torch.tensor(labels).reshape(-1, 1)  # Use torch tensors\n",
    "    )\n",
    "\n",
    "def convert_text_to_examples(texts, labels):\n",
    "    \"\"\"Create InputExamples\"\"\"\n",
    "    input_examples = []\n",
    "    for text, label in zip(texts, labels):\n",
    "        input_examples.append(\n",
    "            InputExample(guid=None, text_a=\" \".join(text), text_b=None, label=label)\n",
    "        )\n",
    "    return input_examples\n",
    "\n",
    "# Instantiate the tokenizer\n",
    "tokenizer = create_tokenizer()\n",
    "\n",
    "# Convert data to InputExample format\n",
    "# Assuming train_text and trainY, test_text and testY are already defined\n",
    "train_examples = convert_text_to_examples(train_text, trainY)\n",
    "test_examples = convert_text_to_examples(test_text, testY)\n",
    "\n",
    "# Convert to features\n",
    "train_input_ids, train_input_masks, train_segment_ids, trainY = convert_examples_to_features(tokenizer, train_examples, max_seq_length=128)\n",
    "test_input_ids, test_input_masks, test_segment_ids, testY = convert_examples_to_features(tokenizer, test_examples, max_seq_length=128)\n",
    "\n",
    "# Now you can proceed to use `train_input_ids`, `train_input_masks`, `train_segment_ids`, and `trainY`\n",
    "# for training your model in PyTorch\n"
   ]
  },
  {
   "cell_type": "markdown",
   "metadata": {
    "id": "WB4AQ3AbEQ-u"
   },
   "source": [
    "# Image Part"
   ]
  },
  {
   "cell_type": "code",
   "execution_count": 3,
   "metadata": {
    "id": "lPmDYmVREQwN"
   },
   "outputs": [],
   "source": [
    "# length = 224\n",
    "# width = 224\n",
    "# channels = 3\n",
    "\n",
    "length = 64\n",
    "width = 64\n",
    "channels = 3"
   ]
  },
  {
   "cell_type": "code",
   "execution_count": null,
   "metadata": {
    "id": "O4E878FuET2N"
   },
   "outputs": [],
   "source": [
    "# def read_and_process_image(list_of_images):\n",
    "#     X = []\n",
    "#     for image in tqdm(list_of_images):\n",
    "# #         print(image)\n",
    "#         if image is None:\n",
    "#             print(\"Error: Image not found or unable to load.\", image)\n",
    "\n",
    "#         else:\n",
    "#             print(\"Error: Image found.\", image)\n",
    "#             X.append(cv2.resize(cv2.imread(image, cv2.IMREAD_COLOR), (length,width), interpolation=cv2.INTER_CUBIC))\n",
    "\n",
    "#     return X"
   ]
  },
  {
   "cell_type": "code",
   "execution_count": null,
   "metadata": {
    "id": "AVzBMfVCEV9a"
   },
   "outputs": [],
   "source": [
    "# images = listdir('images_train/')\n",
    "# images.extend(listdir('images_test/'))\n",
    "# jpg = []\n",
    "# png=[]\n",
    "# jpeg=[]\n",
    "# gif = []\n",
    "\n",
    "# for i in images:\n",
    "#     name,ext = i.split('.')[0],i.split('.')[-1]\n",
    "#     eval(ext).append(name)"
   ]
  },
  {
   "cell_type": "code",
   "execution_count": 19,
   "metadata": {
    "id": "MuqVDoW8Emj3"
   },
   "outputs": [],
   "source": [
    "# def get_extension_of_file(file_name):\n",
    "#     if file_name in jpg:\n",
    "#         return '.jpg'\n",
    "#     elif file_name in png:\n",
    "#         return '.png'\n",
    "#     elif file_name in jpeg:\n",
    "#         return '.jpeg'\n",
    "#     else:\n",
    "#         return '.gif'"
   ]
  },
  {
   "cell_type": "code",
   "execution_count": 25,
   "metadata": {
    "id": "2lxOE9zbEnV5"
   },
   "outputs": [],
   "source": [
    "# train_images = ['images_train/'+i+get_extension_of_file(i) for i in train_images]\n",
    "# test_images = ['images_test/'+i+get_extension_of_file(i) for i in test_images]"
   ]
  },
  {
   "cell_type": "code",
   "execution_count": 9,
   "metadata": {
    "id": "002TGgAJMZjw"
   },
   "outputs": [],
   "source": [
    "# train_images"
   ]
  },
  {
   "cell_type": "code",
   "execution_count": 10,
   "metadata": {
    "id": "SaUULnm7EuPd"
   },
   "outputs": [],
   "source": [
    "# train_imagesX = read_and_process_image(train_images)\n",
    "# test_imagesX = read_and_process_image(test_images)"
   ]
  },
  {
   "cell_type": "code",
   "execution_count": null,
   "metadata": {
    "id": "T4jaFc7OIb4h"
   },
   "outputs": [],
   "source": [
    "# from google.colab.patches import cv2_imshow\n",
    "# image = cv2.imread('drive/My Drive/Deep Learning/Project/mediaeval2015/images_test/eclipse_video_01.gif')\n",
    "# cv2_imshow(image)"
   ]
  },
  {
   "cell_type": "code",
   "execution_count": 11,
   "metadata": {
    "id": "CiBOq5_sbeKD"
   },
   "outputs": [],
   "source": [
    "#np.save('train_imagesX_64.npy', train_imagesX)"
   ]
  },
  {
   "cell_type": "code",
   "execution_count": null,
   "metadata": {
    "id": "zy--PkuzhXt4"
   },
   "outputs": [],
   "source": [
    "#np.save(GOOGLE_DRIVE_PATH+'test_imagesX.npy', test_imagesX)"
   ]
  },
  {
   "cell_type": "code",
   "execution_count": 11,
   "metadata": {
    "id": "pd9368hQbd-H"
   },
   "outputs": [],
   "source": [
    "train_imagesX = np.load('train_imagesX_64.npy')\n",
    "test_imagesX = np.load('test_imagesX_64.npy')"
   ]
  },
  {
   "cell_type": "code",
   "execution_count": 12,
   "metadata": {
    "id": "PbxOQgMCiZsb"
   },
   "outputs": [],
   "source": [
    "# train_imagesX = np.rollaxis(train_imagesX, 3, 1)\n",
    "# test_imagesX = np.rollaxis(test_imagesX,3,1)\n",
    "\n",
    "# Alternatively, using from_numpy which preserves the original data type\n",
    "train_imagesX = torch.from_numpy(train_imagesX).float()\n",
    "test_imagesX  = torch.from_numpy(test_imagesX).float()"
   ]
  },
  {
   "cell_type": "markdown",
   "metadata": {
    "id": "7qlHSdxhicoD"
   },
   "source": [
    "# The Bert Model"
   ]
  },
  {
   "cell_type": "code",
   "execution_count": 9,
   "metadata": {},
   "outputs": [],
   "source": [
    "import torch\n",
    "import torch.nn as nn\n",
    "from transformers import BertModel\n",
    "\n",
    "class MBertLayer(nn.Module):\n",
    "    def __init__(self, bert_path=\"bert-base-multilingual-cased\", n_fine_tune_layers=1):\n",
    "        super(MBertLayer, self).__init__()\n",
    "        self.n_fine_tune_layers = n_fine_tune_layers\n",
    "        self.output_size = 768  # Default output size of BERT\n",
    "\n",
    "        # Load pre-trained mBERT model\n",
    "        self.bert = BertModel.from_pretrained(bert_path)\n",
    "\n",
    "        # Set all layers to non-trainable initially\n",
    "        for param in self.bert.parameters():\n",
    "            param.requires_grad = False\n",
    "\n",
    "        # Unfreeze the last `n_fine_tune_layers` layers\n",
    "        if n_fine_tune_layers > 0:\n",
    "            for layer in self.bert.encoder.layer[-n_fine_tune_layers:]:\n",
    "                for param in layer.parameters():\n",
    "                    param.requires_grad = True\n",
    "\n",
    "        # Optional: Linear layer to reduce dimensionality (commented for flexibility)\n",
    "        # self.fc = nn.Linear(self.output_size, 256)\n",
    "\n",
    "    def forward(self, input_ids, attention_mask=None, token_type_ids=None):\n",
    "        # Get the outputs from BERT\n",
    "        outputs = self.bert(\n",
    "            input_ids=input_ids,\n",
    "            attention_mask=attention_mask,\n",
    "            token_type_ids=token_type_ids,\n",
    "            return_dict=True  # Ensures outputs are returned as a dictionary\n",
    "        )\n",
    "\n",
    "        # Extract the pooled output (representation of [CLS] token)\n",
    "        pooled_output = outputs.pooler_output\n",
    "\n",
    "        # Optional: Reduce dimensionality using a linear layer\n",
    "        # reduced_output = self.fc(pooled_output)\n",
    "\n",
    "        return pooled_output\n",
    "\n",
    "# Example usage:\n",
    "# mb_layer = MBertLayer(bert_path=\"bert-base-multilingual-cased\", n_fine_tune_layers=10)\n",
    "\n",
    "# # Example input IDs and attention mask\n",
    "# input_ids = torch.tensor([[101, 2009, 2003, 1037, 3071, 102]])  # Example input\n",
    "# attention_mask = torch.tensor([[1, 1, 1, 1, 1, 1]])\n",
    "\n",
    "# output = mb_layer(input_ids=input_ids, attention_mask=attention_mask)\n",
    "# print(output.shape)  # Should print torch.Size([1, 768])\n",
    "\n"
   ]
  },
  {
   "cell_type": "code",
   "execution_count": 26,
   "metadata": {},
   "outputs": [
    {
     "name": "stderr",
     "output_type": "stream",
     "text": [
      "Processing Text: 100%|██████████| 446/446 [01:19<00:00,  5.61it/s]\n"
     ]
    },
    {
     "name": "stdout",
     "output_type": "stream",
     "text": [
      "torch.Size([14258, 768])\n"
     ]
    }
   ],
   "source": [
    "import torch\n",
    "from tqdm import tqdm  # Import tqdm for progress tracking\n",
    "\n",
    "# Initialize feature extractor\n",
    "device = torch.device(\"cuda\" if torch.cuda.is_available() else \"cpu\")\n",
    "mb_layer = MBertLayer(bert_path=\"bert-base-multilingual-cased\", n_fine_tune_layers=10).to(device)\n",
    "\n",
    "# # Move input data to GPU\n",
    "train_input_ids = train_input_ids.to(device)\n",
    "train_input_masks = train_input_masks.to(device)\n",
    "train_segment_ids = train_segment_ids.to(device)\n",
    "\n",
    "# Move test data to GPU\n",
    "# train_input_ids = test_input_ids.to(device)\n",
    "# train_input_masks = test_input_masks.to(device)\n",
    "# train_segment_ids = test_segment_ids.to(device)\n",
    "\n",
    "# Process in batches with mixed precision\n",
    "batch_size = 32  # Adjust based on VRAM usage\n",
    "features = []\n",
    "\n",
    "with torch.no_grad(): #, torch.cuda.amp.autocast():\n",
    "    for i in tqdm(range(0, len(train_input_ids), batch_size),desc='Processing Text'):\n",
    "        batch_ids = train_input_ids[i:i+batch_size]\n",
    "        batch_masks = train_input_masks[i:i+batch_size]\n",
    "        batch_segments = train_segment_ids[i:i+batch_size]\n",
    "\n",
    "        batch_features = mb_layer(batch_ids, batch_masks, batch_segments)\n",
    "        features.append(batch_features.cpu())  # Move to CPU to free up GPU memory\n",
    "\n",
    "# Concatenate all batches for final output\n",
    "features = torch.cat(features)\n",
    "torch.save(features, \"mbert_features_train.pt\")\n",
    "print(features.shape)\n",
    "\n"
   ]
  },
  {
   "cell_type": "markdown",
   "metadata": {},
   "source": [
    "# Resnet Feature Extraction"
   ]
  },
  {
   "cell_type": "code",
   "execution_count": 8,
   "metadata": {},
   "outputs": [
    {
     "name": "stderr",
     "output_type": "stream",
     "text": [
      "c:\\ProgramData\\anaconda3\\envs\\pytorch\\lib\\site-packages\\torchvision\\models\\_utils.py:208: UserWarning: The parameter 'pretrained' is deprecated since 0.13 and may be removed in the future, please use 'weights' instead.\n",
      "  warnings.warn(\n",
      "c:\\ProgramData\\anaconda3\\envs\\pytorch\\lib\\site-packages\\torchvision\\models\\_utils.py:223: UserWarning: Arguments other than a weight enum or `None` for 'weights' are deprecated since 0.13 and may be removed in the future. The current behavior is equivalent to passing `weights=ResNet101_Weights.IMAGENET1K_V1`. You can also use `weights=ResNet101_Weights.DEFAULT` to get the most up-to-date weights.\n",
      "  warnings.warn(msg)\n"
     ]
    },
    {
     "name": "stdout",
     "output_type": "stream",
     "text": [
      "torch.Size([4, 25088])\n"
     ]
    }
   ],
   "source": [
    "from torchvision import models\n",
    "import torch.nn as nn\n",
    "\n",
    "# Define the ResNet-101 feature extractor with matched output size\n",
    "class ResNet101FeatureExtract(nn.Module):\n",
    "    def __init__(self):\n",
    "        super(ResNet101FeatureExtract, self).__init__()\n",
    "        \n",
    "        # Load the pre-trained ResNet-101 model\n",
    "        self.resnet_base = models.resnet101(pretrained=True)\n",
    "        self.resnet_base.fc = nn.Identity()  # Remove the fully connected layer\n",
    "        \n",
    "        # Additional layer to match output size to VGG-19\n",
    "        self.fc_expand = nn.Linear(2048, 25088)  # Expand from 2048 to 25088\n",
    "        \n",
    "    def forward(self, x):\n",
    "        # Forward pass through ResNet-101\n",
    "        features = self.resnet_base(x)  # Output is (N, 2048)\n",
    "        \n",
    "        # Match output size to VGG-19\n",
    "        expanded_features = self.fc_expand(features)  # Output is (N, 25088)\n",
    "        return expanded_features\n",
    "\n",
    "# Instantiate and test\n",
    "model = ResNet101FeatureExtract()\n",
    "model.eval()\n",
    "\n",
    "# Dummy input: Batch of 4 RGB images, 224x224\n",
    "input_images = torch.randn(4, 3, 64, 64)\n",
    "\n",
    "# Get features\n",
    "features = model(input_images)\n",
    "print(features.shape)  # Output: torch.Size([4, 25088])\n"
   ]
  },
  {
   "cell_type": "markdown",
   "metadata": {},
   "source": [
    "## train image features"
   ]
  },
  {
   "cell_type": "code",
   "execution_count": 14,
   "metadata": {},
   "outputs": [
    {
     "name": "stderr",
     "output_type": "stream",
     "text": [
      "Processing images: 100%|██████████| 1426/1426 [09:08<00:00,  2.60it/s]\n"
     ]
    },
    {
     "name": "stdout",
     "output_type": "stream",
     "text": [
      "torch.Size([14258, 25088])\n"
     ]
    }
   ],
   "source": [
    "import torch\n",
    "from tqdm import tqdm  # Import tqdm for progress tracking\n",
    "\n",
    "# Initialize feature extractor\n",
    "device = torch.device(\"cuda\" if torch.cuda.is_available() else \"cpu\")\n",
    "resnet_layer = ResNet101FeatureExtract().to(device)  # Ensure params are passed to the class\n",
    "\n",
    "# # Move input data to GPU\n",
    "train_imagesX = train_imagesX.to(device)\n",
    "# Convert from channel-last to channel-first format\n",
    "train_imagesX = train_imagesX.permute(0, 3, 1, 2)  # Shape: [N, 3, 64, 64]\n",
    "\n",
    "\n",
    "# Process in batches with mixed precision\n",
    "batch_size = 10  # Adjust based on VRAM usage\n",
    "features = []\n",
    "\n",
    "with torch.no_grad():  # Disable gradient tracking\n",
    "    # Use tqdm to create a progress bar for the batch processing loop\n",
    "    for i in tqdm(range(0, len(train_imagesX), batch_size), desc=\"Processing images\"):\n",
    "        imagesX = train_imagesX[i:i + batch_size]\n",
    "\n",
    "        batch_features = resnet_layer(imagesX)\n",
    "        features.append(batch_features.cpu())  # Move to CPU to free up GPU memory\n",
    "\n",
    "# Concatenate all batches for final output\n",
    "features = torch.cat(features)\n",
    "torch.save(features, \"resnet_image_features_train.pt\")\n",
    "print(features.shape)\n"
   ]
  },
  {
   "cell_type": "markdown",
   "metadata": {},
   "source": [
    "## test image features"
   ]
  },
  {
   "cell_type": "code",
   "execution_count": 17,
   "metadata": {},
   "outputs": [
    {
     "name": "stderr",
     "output_type": "stream",
     "text": [
      "Processing images: 100%|██████████| 193/193 [01:17<00:00,  2.48it/s]\n"
     ]
    },
    {
     "name": "stdout",
     "output_type": "stream",
     "text": [
      "torch.Size([1923, 25088])\n"
     ]
    }
   ],
   "source": [
    "import torch\n",
    "from tqdm import tqdm  # Import tqdm for progress tracking\n",
    "\n",
    "# Initialize feature extractor\n",
    "device = torch.device(\"cuda\" if torch.cuda.is_available() else \"cpu\")\n",
    "resnet_layer = ResNet101FeatureExtract().to(device)  # Ensure params are passed to the class\n",
    "\n",
    "# Move input data to GPU test data\n",
    "train_imagesX = test_imagesX.to(device)\n",
    "# Convert from channel-last to channel-first format\n",
    "train_imagesX = train_imagesX.permute(0, 3, 1, 2)  # Shape: [N, 3, 64, 64]\n",
    "\n",
    "# Process in batches with mixed precision\n",
    "batch_size = 10  # Adjust based on VRAM usage\n",
    "features = []\n",
    "\n",
    "with torch.no_grad():  # Disable gradient tracking\n",
    "    # Use tqdm to create a progress bar for the batch processing loop\n",
    "    for i in tqdm(range(0, len(train_imagesX), batch_size), desc=\"Processing images\"):\n",
    "        imagesX = train_imagesX[i:i + batch_size]\n",
    "\n",
    "        batch_features = resnet_layer(imagesX)\n",
    "        features.append(batch_features.cpu())  # Move to CPU to free up GPU memory\n",
    "\n",
    "# Concatenate all batches for final output\n",
    "features = torch.cat(features)\n",
    "torch.save(features, \"resnet_image_features_test.pt\")\n",
    "print(features.shape)\n"
   ]
  },
  {
   "cell_type": "markdown",
   "metadata": {},
   "source": [
    "# Model code"
   ]
  },
  {
   "cell_type": "code",
   "execution_count": 3,
   "metadata": {},
   "outputs": [],
   "source": [
    "import torch.nn as nn\n",
    "from torchvision import models\n",
    "# Define the main NewsModel\n",
    "class NewsModel(nn.Module):\n",
    "    def __init__(self, params):\n",
    "        super(NewsModel, self).__init__()\n",
    "\n",
    "        text_hidden_layers = []\n",
    "        input_size = 768\n",
    "        for _ in range(params['text_no_hidden_layer']):\n",
    "            text_hidden_layers.append(nn.Linear(input_size, params['text_hidden_neurons']))\n",
    "            text_hidden_layers.append(nn.ELU())\n",
    "            text_hidden_layers.append(nn.Dropout(params['dropout']))\n",
    "            input_size = params['text_hidden_neurons']\n",
    "        self.text_hidden_layers = nn.Sequential(*text_hidden_layers)\n",
    "        \n",
    "        self.text_repr = nn.Linear(input_size, params['repr_size'])\n",
    "        \n",
    "\n",
    "        vis_hidden_layers = []\n",
    "        input_size = 512*7*7\n",
    "        for _ in range(params['vis_no_hidden_layer']):\n",
    "            vis_hidden_layers.append(nn.Linear(input_size, params['vis_hidden_neurons']))\n",
    "            vis_hidden_layers.append(nn.ELU())\n",
    "            vis_hidden_layers.append(nn.Dropout(params['dropout']))\n",
    "            input_size = params['vis_hidden_neurons']\n",
    "        self.vis_hidden_layers = nn.Sequential(*vis_hidden_layers)\n",
    "\n",
    "        self.visual_repr = nn.Linear(input_size, params['repr_size'])\n",
    "        \n",
    "        # Final combined classifier\n",
    "        combined_size = 2 * params['repr_size']\n",
    "        final_hidden_layers = []\n",
    "        for _ in range(params['final_no_hidden_layer']):\n",
    "            final_hidden_layers.append(nn.Linear(combined_size, params['final_hidden_neurons']))\n",
    "            final_hidden_layers.append(nn.ELU())\n",
    "            final_hidden_layers.append(nn.Dropout(params['dropout']))\n",
    "            combined_size = params['final_hidden_neurons']\n",
    "            \n",
    "        self.final_hidden_layers = nn.Sequential(*final_hidden_layers)\n",
    "\n",
    "        self.classifier = nn.Linear(combined_size, 1)  # Binary classification\n",
    "    \n",
    "    def forward(self,features, image_features):\n",
    "        # BERT forward pass\n",
    "        #text_output = self.bert_layer(input_ids, attention_mask, token_type_ids)\n",
    "        \n",
    "        text_output = self.text_hidden_layers(features)\n",
    "        text_repr = self.text_repr(text_output)\n",
    "        \n",
    "        # VGG-19 forward pass\n",
    "        image_features = image_features\n",
    "        #image_flatten = image_features.view(image_features.size(0), -1)  # Flatten for fully connected layers\n",
    "        #image_output = self.vis_hidden_layers(image_flatten)\n",
    "        image_output = self.vis_hidden_layers(image_features )\n",
    "        visual_repr = self.visual_repr(image_output)\n",
    "        \n",
    "        # Concatenate text and visual representations\n",
    "        # print(text_repr.shape)\n",
    "        # print(visual_repr.shape)\n",
    "        combined_repr = torch.cat((text_repr, visual_repr), dim=1)\n",
    "        combined_output = self.final_hidden_layers(combined_repr)\n",
    "        \n",
    "        # Final classifier layer\n",
    "        prediction = torch.sigmoid(self.classifier(combined_output))\n",
    "        \n",
    "        return prediction"
   ]
  },
  {
   "cell_type": "code",
   "execution_count": 4,
   "metadata": {},
   "outputs": [
    {
     "name": "stdout",
     "output_type": "stream",
     "text": [
      "Is CUDA available? True\n",
      "Current GPU device: NVIDIA GeForce RTX 3060 Laptop GPU\n"
     ]
    }
   ],
   "source": [
    "import torch\n",
    "\n",
    "# Check if CUDA is available\n",
    "is_cuda_available = torch.cuda.is_available()\n",
    "print(f\"Is CUDA available? {is_cuda_available}\")\n",
    "\n",
    "# If CUDA is available, get the current device\n",
    "if is_cuda_available:\n",
    "    current_device = torch.cuda.current_device()\n",
    "    device_name = torch.cuda.get_device_name(current_device)\n",
    "    print(f\"Current GPU device: {device_name}\")\n",
    "else:\n",
    "    print(\"Using CPU\")\n"
   ]
  },
  {
   "cell_type": "code",
   "execution_count": 5,
   "metadata": {},
   "outputs": [],
   "source": [
    "import numpy as np\n",
    "import torch\n",
    "import torch.optim as optim\n",
    "import torch.nn as nn\n",
    "from torch.utils.data import DataLoader, TensorDataset, random_split\n",
    "from torch.optim.lr_scheduler import ReduceLROnPlateau\n",
    "from datetime import datetime\n",
    "\n",
    "def training(params,train_ratio,batch_size,lr=0.001,weight_decay=1e-5,num_epochs=20):\n",
    "    \n",
    "    timestamp = datetime.now().strftime('%Y-%m-%d_%H-%M-%S')  # Format: YYYY-MM-DD_HH-MM-SS\n",
    "    print(\"The training started \"+timestamp)\n",
    "\n",
    "\n",
    "    # Load saved features\n",
    "    features = torch.load(\"mbert_features_train.pt\")\n",
    "    image_features = torch.load(\"resnet_image_features_train.pt\")\n",
    "    labels = trainY\n",
    "\n",
    "    # Check the sizes of the loaded tensors\n",
    "    print(\"Features shape:\", features.shape)\n",
    "    print(\"Image features shape:\", image_features.shape)\n",
    "    print(\"Labels shape:\", labels.shape)\n",
    "\n",
    "    # Create a dataset\n",
    "    dataset = TensorDataset(features, image_features, labels)\n",
    "\n",
    "    # Define the split ratio for training and validation\n",
    "    train_ratio = train_ratio #0.7\n",
    "    train_size = int(train_ratio * len(dataset))\n",
    "    val_size = len(dataset) - train_size\n",
    "\n",
    "    # Split the dataset into training and validation sets\n",
    "    train_dataset, val_dataset = random_split(dataset, [train_size, val_size])\n",
    "\n",
    "    # Create DataLoaders for training and validation\n",
    "    train_loader = DataLoader(train_dataset, batch_size=batch_size, shuffle=True)\n",
    "    val_loader = DataLoader(val_dataset, batch_size=batch_size, shuffle=False)\n",
    "\n",
    "    # Create the model\n",
    "    model_adam = NewsModel(params).to(current_device)\n",
    "\n",
    "    # Set the learning rate and optimizer\n",
    "    fixed_lr = lr   # Set the desired learning rate\n",
    "    optimizer = optim.Adam(model_adam.parameters(), lr=fixed_lr,weight_decay=weight_decay)\n",
    "    criterion = nn.BCELoss()\n",
    "    train_losses = []\n",
    "    val_losses = []\n",
    "    # Training loop\n",
    "    num_epochs = num_epochs # Set the desired number of epochs\n",
    "    scheduler = ReduceLROnPlateau(optimizer, mode='min', patience=5, verbose=True)\n",
    "    for epoch in range(num_epochs):\n",
    "        model_adam.train()  # Set the model to training mode\n",
    "        for batch_features, batch_image_features, batch_labels in train_loader:\n",
    "            # Move inputs to device\n",
    "            device = next(model_adam.parameters()).device\n",
    "            batch_features, batch_image_features, batch_labels = (\n",
    "                batch_features.to(device),\n",
    "                batch_image_features.to(device),\n",
    "                batch_labels.float().to(device)\n",
    "            )\n",
    "\n",
    "            # Forward pass\n",
    "            outputs = model_adam(batch_features, batch_image_features)\n",
    "            outputs = outputs.unsqueeze(1)\n",
    "            loss = criterion(outputs.squeeze(), batch_labels.squeeze())\n",
    "\n",
    "            # Backpropagation\n",
    "            optimizer.zero_grad()\n",
    "            loss.backward()\n",
    "             # Apply gradient clipping (by norm)\n",
    "            torch.nn.utils.clip_grad_norm_(model_adam.parameters(), max_norm=1.0)  # Clip gradients by norm\n",
    "        \n",
    "            optimizer.step()\n",
    "\n",
    "        # Validation loop\n",
    "        model_adam.eval()  # Set the model to evaluation mode\n",
    "        val_loss = 0.0\n",
    "        with torch.no_grad():  # No gradient tracking for validation\n",
    "            for val_features, val_image_features, val_labels in val_loader:\n",
    "                val_features, val_image_features, val_labels = (\n",
    "                    val_features.to(device),\n",
    "                    val_image_features.to(device),\n",
    "                    val_labels.float().to(device)\n",
    "                )\n",
    "\n",
    "                # Forward pass\n",
    "                val_outputs = model_adam(val_features, val_image_features)\n",
    "                val_outputs = val_outputs.unsqueeze(1)\n",
    "                val_loss += criterion(val_outputs.squeeze(), val_labels.squeeze()).item()\n",
    "\n",
    "        # Calculate average validation loss\n",
    "        avg_val_loss = val_loss / len(val_loader)\n",
    "        \n",
    "        \n",
    "        # Print results for the current epoch\n",
    "        print(f\"Epoch: {epoch+1}/{num_epochs}, Loss: {loss.item():.4f}, Val Loss: {avg_val_loss:.4f}\")\n",
    "        train_losses.append(loss.item())\n",
    "        val_losses.append(avg_val_loss)\n",
    "        scheduler.step(avg_val_loss)\n",
    "\n",
    "    #After the training loop, you can save the model or perform evaluation as needed\n",
    "\n",
    "    # Optionally, visualize the losses later\n",
    "    plt.figure(figsize=(10, 6))\n",
    "    plt.plot(range(1, num_epochs + 1), np.array(train_losses), label='Training Loss', marker='o')\n",
    "    plt.plot(range(1, num_epochs + 1),np.array(val_losses), label='Validation Loss', marker='o')\n",
    "    plt.title('Training and Validation Loss over Epochs')\n",
    "    plt.xlabel('Epochs')\n",
    "    plt.ylabel('Loss')\n",
    "    plt.legend()\n",
    "    plt.grid()\n",
    "    plt.show()\n",
    "    # Generate a timestamped filename\n",
    "    \n",
    "    filename = f\"model_{timestamp}.pth\"\n",
    "    # Save the model\n",
    "    torch.save(model_adam.state_dict(), filename)\n",
    "    print(f\"Model saved as {filename}\")\n",
    "    return model_adam\n",
    "\n",
    "    "
   ]
  },
  {
   "cell_type": "code",
   "execution_count": 6,
   "metadata": {},
   "outputs": [],
   "source": [
    "import torch\n",
    "import torch.nn as nn\n",
    "from torch.utils.data import DataLoader, TensorDataset\n",
    "from sklearn.metrics import accuracy_score, precision_recall_fscore_support\n",
    "import numpy as np\n",
    "def testing(model):\n",
    "\n",
    "\n",
    "    # Load saved features\n",
    "    test_features = torch.load(\"mbert_features_test.pt\")\n",
    "    test_image_features = torch.load(\"resnet_image_features_test.pt\")\n",
    "    test_labels = testY  # Assuming testY is defined elsewhere\n",
    "    device = current_device\n",
    "    # Create a test dataset and dataloader\n",
    "    test_dataset = TensorDataset(test_features, test_image_features, test_labels)\n",
    "    test_loader = DataLoader(test_dataset, batch_size=256, shuffle=False)\n",
    "\n",
    "    model_adam=model\n",
    "    # Set the model to evaluation mode\n",
    "    model_adam.eval()\n",
    "    test_loss = 0.0\n",
    "    criterion = nn.BCELoss()  # Using the same loss function as in training\n",
    "\n",
    "    # Initialize metrics\n",
    "    total_samples = 0\n",
    "\n",
    "    # Initialize accumulators for overall metrics\n",
    "    all_true_labels = []\n",
    "    all_predicted_labels = []\n",
    "    test_loss = 0.0  # Resetting test_loss to use for averaging later\n",
    "\n",
    "    with torch.no_grad():  # Disable gradient calculations for testing\n",
    "        for features, image_features, labels in test_loader:\n",
    "            # Move inputs to device\n",
    "            features, image_features, labels = (\n",
    "                features.to(device),\n",
    "                image_features.to(device),\n",
    "                labels.float().to(device)  # Ensure labels are floats for BCELoss\n",
    "            )\n",
    "\n",
    "            # Forward pass\n",
    "            outputs = model_adam(features, image_features)\n",
    "            outputs = outputs.unsqueeze(1)  # Adjusting dimensions if needed\n",
    "            \n",
    "            # Calculate the batch test loss\n",
    "            loss = criterion(outputs.squeeze(), labels.squeeze())\n",
    "            test_loss += loss.item()  # Accumulate loss\n",
    "            total_samples += labels.size(0)  # Count total samples\n",
    "\n",
    "            # Convert probabilities to binary predictions (assuming output is in [0, 1])\n",
    "            predicted_labels = (outputs.squeeze().cpu().numpy() > 0.68).astype(int)  # Apply threshold\n",
    "            true_labels = labels.squeeze().cpu().numpy()  # Use correct variable name\n",
    "\n",
    "            # Store the true and predicted labels for overall metrics\n",
    "            all_true_labels.extend(true_labels)\n",
    "            all_predicted_labels.extend(predicted_labels)\n",
    "\n",
    "    # Convert to numpy arrays for metric calculations\n",
    "    all_true_labels = np.array(all_true_labels)\n",
    "    all_predicted_labels = np.array(all_predicted_labels)\n",
    "\n",
    "    # Calculate overall metrics\n",
    "    accuracy = accuracy_score(all_true_labels, all_predicted_labels)\n",
    "    precision, recall, f1, _ = precision_recall_fscore_support(all_true_labels, all_predicted_labels, average='binary')\n",
    "\n",
    "    # Calculate the average test loss\n",
    "    avg_test_loss = test_loss / len(test_loader)  # This gives you the average loss per batch\n",
    "\n",
    "    # Print overall metrics\n",
    "    print(f\"Average Test Loss: {avg_test_loss:.4f}\")\n",
    "    print(f\"Overall Accuracy: {accuracy:.4f}\")\n",
    "    print(f\"Overall Precision: {precision:.4f}\")\n",
    "    print(f\"Overall Recall: {recall:.4f}\")\n",
    "    print(f\"Overall F1 Score: {f1:.4f}\")\n",
    "\n",
    "    from sklearn.metrics import precision_recall_curve, average_precision_score\n",
    "    import matplotlib.pyplot as plt\n",
    "\n",
    "    # Calculate precision, recall, and thresholds\n",
    "    precision, recall, thresholds = precision_recall_curve(all_true_labels, all_predicted_labels)\n",
    "\n",
    "    # Calculate Average Precision (AP) score\n",
    "    average_precision = average_precision_score(all_true_labels, all_predicted_labels)\n",
    "\n",
    "    # Plot the Precision-Recall curve\n",
    "    plt.figure(figsize=(8, 6))\n",
    "    plt.plot(recall, precision, label=f'AP = {average_precision:.2f}', color='b')\n",
    "\n",
    "    # Add plot details\n",
    "    plt.title('Precision-Recall Curve')\n",
    "    plt.xlabel('Recall')\n",
    "    plt.ylabel('Precision')\n",
    "    plt.legend(loc='best')\n",
    "    plt.grid()\n",
    "    plt.show()\n",
    "\n",
    "    from sklearn.metrics import confusion_matrix, ConfusionMatrixDisplay\n",
    "\n",
    "    # Compute the confusion matrix\n",
    "    cm = confusion_matrix(all_true_labels, all_predicted_labels)\n",
    "\n",
    "    # Plot the confusion matrix\n",
    "    disp = ConfusionMatrixDisplay(confusion_matrix=cm, display_labels=[0, 1])\n",
    "    disp.plot(cmap=plt.cm.Blues)\n",
    "\n",
    "    # Customize the plot\n",
    "    plt.title(\"Confusion Matrix\")\n",
    "    plt.xlabel(\"Predicted Label\")\n",
    "    plt.ylabel(\"True Label\")\n",
    "    plt.show()\n",
    "    \n",
    "    #from sklearn.metrics import precision_score, recall_score, f1_score\n",
    "\n",
    "    # Compute metrics for each class\n",
    "    precision_0 = cm[0, 0] / (cm[0, 0] + cm[1, 0]) if (cm[0, 0] + cm[1, 0]) > 0 else 0\n",
    "    recall_0 = cm[0, 0] / (cm[0, 0] + cm[0, 1]) if (cm[0, 0] + cm[0, 1]) > 0 else 0\n",
    "    f1_0 = 2 * precision_0 * recall_0 / (precision_0 + recall_0) if (precision_0 + recall_0) > 0 else 0\n",
    "\n",
    "    precision_1 = cm[1, 1] / (cm[1, 1] + cm[0, 1]) if (cm[1, 1] + cm[0, 1]) > 0 else 0\n",
    "    recall_1 = cm[1, 1] / (cm[1, 1] + cm[1, 0]) if (cm[1, 1] + cm[1, 0]) > 0 else 0\n",
    "    f1_1 = 2 * precision_1 * recall_1 / (precision_1 + recall_1) if (precision_1 + recall_1) > 0 else 0\n",
    "\n",
    "    # Print the results\n",
    "    print(f\"Class 0 (Fake News): Precision={precision_0:.2f}, Recall={recall_0:.2f}, F1 Score={f1_0:.2f}\")\n",
    "    print(f\"Class 1 (Real News): Precision={precision_1:.2f}, Recall={recall_1:.2f}, F1 Score={f1_1:.2f}\")\n",
    "\n",
    "\n",
    "\n"
   ]
  },
  {
   "cell_type": "code",
   "execution_count": 19,
   "metadata": {},
   "outputs": [
    {
     "name": "stdout",
     "output_type": "stream",
     "text": [
      "The training started 2024-12-04_09-48-51\n"
     ]
    },
    {
     "name": "stderr",
     "output_type": "stream",
     "text": [
      "C:\\Users\\swaru\\AppData\\Local\\Temp\\ipykernel_17036\\3089553892.py:16: FutureWarning: You are using `torch.load` with `weights_only=False` (the current default value), which uses the default pickle module implicitly. It is possible to construct malicious pickle data which will execute arbitrary code during unpickling (See https://github.com/pytorch/pytorch/blob/main/SECURITY.md#untrusted-models for more details). In a future release, the default value for `weights_only` will be flipped to `True`. This limits the functions that could be executed during unpickling. Arbitrary objects will no longer be allowed to be loaded via this mode unless they are explicitly allowlisted by the user via `torch.serialization.add_safe_globals`. We recommend you start setting `weights_only=True` for any use case where you don't have full control of the loaded file. Please open an issue on GitHub for any issues related to this experimental feature.\n",
      "  features = torch.load(\"mbert_features_train.pt\")\n",
      "C:\\Users\\swaru\\AppData\\Local\\Temp\\ipykernel_17036\\3089553892.py:17: FutureWarning: You are using `torch.load` with `weights_only=False` (the current default value), which uses the default pickle module implicitly. It is possible to construct malicious pickle data which will execute arbitrary code during unpickling (See https://github.com/pytorch/pytorch/blob/main/SECURITY.md#untrusted-models for more details). In a future release, the default value for `weights_only` will be flipped to `True`. This limits the functions that could be executed during unpickling. Arbitrary objects will no longer be allowed to be loaded via this mode unless they are explicitly allowlisted by the user via `torch.serialization.add_safe_globals`. We recommend you start setting `weights_only=True` for any use case where you don't have full control of the loaded file. Please open an issue on GitHub for any issues related to this experimental feature.\n",
      "  image_features = torch.load(\"resnet_image_features_train.pt\")\n"
     ]
    },
    {
     "name": "stdout",
     "output_type": "stream",
     "text": [
      "Features shape: torch.Size([14258, 768])\n",
      "Image features shape: torch.Size([14258, 25088])\n",
      "Labels shape: torch.Size([14258, 1])\n"
     ]
    },
    {
     "name": "stderr",
     "output_type": "stream",
     "text": [
      "c:\\ProgramData\\anaconda3\\envs\\pytorch\\lib\\site-packages\\torch\\optim\\lr_scheduler.py:60: UserWarning: The verbose parameter is deprecated. Please use get_last_lr() to access the learning rate.\n",
      "  warnings.warn(\n"
     ]
    },
    {
     "name": "stdout",
     "output_type": "stream",
     "text": [
      "Epoch: 1/20, Loss: 0.6463, Val Loss: 0.6400\n",
      "Epoch: 2/20, Loss: 0.7109, Val Loss: 0.6135\n",
      "Epoch: 3/20, Loss: 0.4391, Val Loss: 0.3758\n",
      "Epoch: 4/20, Loss: 0.2770, Val Loss: 0.2050\n",
      "Epoch: 5/20, Loss: 0.2050, Val Loss: 0.1334\n",
      "Epoch: 6/20, Loss: 0.1177, Val Loss: 0.1006\n",
      "Epoch: 7/20, Loss: 0.1418, Val Loss: 0.1052\n",
      "Epoch: 8/20, Loss: 0.0973, Val Loss: 0.0782\n",
      "Epoch: 9/20, Loss: 0.0615, Val Loss: 0.0839\n",
      "Epoch: 10/20, Loss: 0.0733, Val Loss: 0.0727\n",
      "Epoch: 11/20, Loss: 0.0693, Val Loss: 0.0740\n",
      "Epoch: 12/20, Loss: 0.0786, Val Loss: 0.0686\n",
      "Epoch: 13/20, Loss: 0.0992, Val Loss: 0.0917\n",
      "Epoch: 14/20, Loss: 0.0421, Val Loss: 0.0622\n",
      "Epoch: 15/20, Loss: 0.0360, Val Loss: 0.0666\n",
      "Epoch: 16/20, Loss: 0.0331, Val Loss: 0.0705\n",
      "Epoch: 17/20, Loss: 0.0432, Val Loss: 0.0636\n",
      "Epoch: 18/20, Loss: 0.0368, Val Loss: 0.0539\n",
      "Epoch: 19/20, Loss: 0.0502, Val Loss: 0.0682\n",
      "Epoch: 20/20, Loss: 0.0177, Val Loss: 0.1065\n"
     ]
    },
    {
     "data": {
      "image/png": "[encoded data removed]",
      "text/plain": [
       "<Figure size 1000x600 with 1 Axes>"
      ]
     },
     "metadata": {},
     "output_type": "display_data"
    },
    {
     "name": "stdout",
     "output_type": "stream",
     "text": [
      "Model saved as model_2024-12-04_09-48-51.pth\n"
     ]
    },
    {
     "name": "stderr",
     "output_type": "stream",
     "text": [
      "C:\\Users\\swaru\\AppData\\Local\\Temp\\ipykernel_17036\\2178082847.py:10: FutureWarning: You are using `torch.load` with `weights_only=False` (the current default value), which uses the default pickle module implicitly. It is possible to construct malicious pickle data which will execute arbitrary code during unpickling (See https://github.com/pytorch/pytorch/blob/main/SECURITY.md#untrusted-models for more details). In a future release, the default value for `weights_only` will be flipped to `True`. This limits the functions that could be executed during unpickling. Arbitrary objects will no longer be allowed to be loaded via this mode unless they are explicitly allowlisted by the user via `torch.serialization.add_safe_globals`. We recommend you start setting `weights_only=True` for any use case where you don't have full control of the loaded file. Please open an issue on GitHub for any issues related to this experimental feature.\n",
      "  test_features = torch.load(\"mbert_features_test.pt\")\n",
      "C:\\Users\\swaru\\AppData\\Local\\Temp\\ipykernel_17036\\2178082847.py:11: FutureWarning: You are using `torch.load` with `weights_only=False` (the current default value), which uses the default pickle module implicitly. It is possible to construct malicious pickle data which will execute arbitrary code during unpickling (See https://github.com/pytorch/pytorch/blob/main/SECURITY.md#untrusted-models for more details). In a future release, the default value for `weights_only` will be flipped to `True`. This limits the functions that could be executed during unpickling. Arbitrary objects will no longer be allowed to be loaded via this mode unless they are explicitly allowlisted by the user via `torch.serialization.add_safe_globals`. We recommend you start setting `weights_only=True` for any use case where you don't have full control of the loaded file. Please open an issue on GitHub for any issues related to this experimental feature.\n",
      "  test_image_features = torch.load(\"resnet_image_features_test.pt\")\n"
     ]
    },
    {
     "name": "stdout",
     "output_type": "stream",
     "text": [
      "Average Test Loss: 1.0074\n",
      "Overall Accuracy: 0.7733\n",
      "Overall Precision: 0.8152\n",
      "Overall Recall: 0.8260\n",
      "Overall F1 Score: 0.8206\n"
     ]
    },
    {
     "data": {
      "image/png": "[encoded data removed]",
      "text/plain": [
       "<Figure size 800x600 with 1 Axes>"
      ]
     },
     "metadata": {},
     "output_type": "display_data"
    },
    {
     "data": {
      "image/png": "[encoded data removed]",
      "text/plain": [
       "<Figure size 640x480 with 2 Axes>"
      ]
     },
     "metadata": {},
     "output_type": "display_data"
    },
    {
     "name": "stdout",
     "output_type": "stream",
     "text": [
      "Class 0 (Fake News): Precision=0.70, Recall=0.68, F1 Score=0.69\n",
      "Class 1 (Real News): Precision=0.82, Recall=0.83, F1 Score=0.82\n"
     ]
    }
   ],
   "source": [
    "#provide good result for mBert\n",
    "\n",
    "params = {\n",
    "\n",
    "    'text_no_hidden_layer':2,\n",
    "    'text_hidden_neurons':768,   #'text_hidden_neurons':768,\n",
    "    'dropout':0.4,\n",
    "    'repr_size':32,\n",
    "    'vis_no_hidden_layer':2,\n",
    "    'vis_hidden_neurons':2742,   #'vis_hidden_neurons':2742,\n",
    "    'final_no_hidden_layer':7,\n",
    "    'final_hidden_neurons':35,\n",
    "    'optimizer':['adam'],\n",
    "}\n",
    "\n",
    "model=training(params,train_ratio=0.8,batch_size=256,lr=0.0009,weight_decay=0.00001,num_epochs=20)\n",
    "testing(model)"
   ]
  }
 ],
 "metadata": {
  "accelerator": "GPU",
  "colab": {
   "gpuType": "T4",
   "provenance": []
  },
  "kernelspec": {
   "display_name": "pytorch",
   "language": "python",
   "name": "python3"
  },
  "language_info": {
   "codemirror_mode": {
    "name": "ipython",
    "version": 3
   },
   "file_extension": ".py",
   "mimetype": "text/x-python",
   "name": "python",
   "nbconvert_exporter": "python",
   "pygments_lexer": "ipython3",
   "version": "3.9.19"
  }
 },
 "nbformat": 4,
 "nbformat_minor": 0
}
